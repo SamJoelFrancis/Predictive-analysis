{
 "cells": [
  {
   "cell_type": "markdown",
   "metadata": {},
   "source": [
    "># Python Programming Assignment \n",
    "Start Date : \n",
    "\n",
    "* Marks Weight = \n",
    "** Total Marks = 100 \n",
    "* Due Date = \n",
    "> ## Data Cleaning and Basic Plotting\n",
    "\n",
    "\n",
    "\n",
    "* **Student Name** : Sam Joel Francis Punitha Rajan\n",
    "* **Student ID** : 8969426"
   ]
  },
  {
   "cell_type": "markdown",
   "metadata": {},
   "source": [
    "## Q1) \n",
    "\n",
    "Download the file \"Raw File for test.xlsx” and “Final Test Result File.csv” .  Use appropriate data cleaning techniques and methods in Pandas to convert the raw file into the data structure as shown in “Final Test Result File.csv” and answer the following questions. Your answers should be accurate.  All cleaning and manipulation should be done in Python only. Be careful for subtotals in the data to avoid double counting. **(50 marks)**\n",
    "\n",
    "\n",
    "\n",
    "### Paste your cleaning code here , "
   ]
  },
  {
   "cell_type": "code",
   "execution_count": 1,
   "metadata": {},
   "outputs": [
    {
     "name": "stdout",
     "output_type": "stream",
     "text": [
      "C:\\Users\\samjo\\Downloads\n",
      "   Program Code                                Program Name   Level  \\\n",
      "0             K3135                Medical Laboratory Science    S1   \n",
      "1             K3135                Medical Laboratory Science    S3   \n",
      "2             K3135                Medical Laboratory Science    S5   \n",
      "3             K3135                Medical Laboratory Science    S6   \n",
      "4             K3263  Advertising and Marketing Communications    S1   \n",
      "\n",
      "   Number of Students   School     Deposit Amount   \n",
      "0                    53     HS               500.0  \n",
      "1                    38     HS               500.0  \n",
      "2                    13     HS               500.0  \n",
      "3                     9     HS               500.0  \n",
      "4                    88    BUS               500.0  \n"
     ]
    },
    {
     "name": "stderr",
     "output_type": "stream",
     "text": [
      "C:\\Users\\samjo\\AppData\\Local\\Temp\\ipykernel_17572\\1309635123.py:9: FutureWarning: DataFrame.fillna with 'method' is deprecated and will raise in a future version. Use obj.ffill() or obj.bfill() instead.\n",
      "  wat=clean.fillna(method='ffill')\n"
     ]
    },
    {
     "data": {
      "text/html": [
       "<div>\n",
       "<style scoped>\n",
       "    .dataframe tbody tr th:only-of-type {\n",
       "        vertical-align: middle;\n",
       "    }\n",
       "\n",
       "    .dataframe tbody tr th {\n",
       "        vertical-align: top;\n",
       "    }\n",
       "\n",
       "    .dataframe thead th {\n",
       "        text-align: right;\n",
       "    }\n",
       "</style>\n",
       "<table border=\"1\" class=\"dataframe\">\n",
       "  <thead>\n",
       "    <tr style=\"text-align: right;\">\n",
       "      <th></th>\n",
       "      <th>Program Code</th>\n",
       "      <th>Program Name</th>\n",
       "      <th>Level</th>\n",
       "      <th>Number of Students</th>\n",
       "      <th>School</th>\n",
       "      <th>Deposit Amount</th>\n",
       "    </tr>\n",
       "  </thead>\n",
       "  <tbody>\n",
       "    <tr>\n",
       "      <th>0</th>\n",
       "      <td>K3135</td>\n",
       "      <td>Medical Laboratory Science</td>\n",
       "      <td>S1</td>\n",
       "      <td>53</td>\n",
       "      <td>HS</td>\n",
       "      <td>500.0</td>\n",
       "    </tr>\n",
       "    <tr>\n",
       "      <th>1</th>\n",
       "      <td>K3135</td>\n",
       "      <td>Medical Laboratory Science</td>\n",
       "      <td>S3</td>\n",
       "      <td>38</td>\n",
       "      <td>HS</td>\n",
       "      <td>500.0</td>\n",
       "    </tr>\n",
       "    <tr>\n",
       "      <th>2</th>\n",
       "      <td>K3135</td>\n",
       "      <td>Medical Laboratory Science</td>\n",
       "      <td>S5</td>\n",
       "      <td>13</td>\n",
       "      <td>HS</td>\n",
       "      <td>500.0</td>\n",
       "    </tr>\n",
       "    <tr>\n",
       "      <th>3</th>\n",
       "      <td>K3135</td>\n",
       "      <td>Medical Laboratory Science</td>\n",
       "      <td>S6</td>\n",
       "      <td>9</td>\n",
       "      <td>HS</td>\n",
       "      <td>500.0</td>\n",
       "    </tr>\n",
       "    <tr>\n",
       "      <th>4</th>\n",
       "      <td>K3263</td>\n",
       "      <td>Advertising and Marketing Communications</td>\n",
       "      <td>S1</td>\n",
       "      <td>88</td>\n",
       "      <td>BUS</td>\n",
       "      <td>500.0</td>\n",
       "    </tr>\n",
       "    <tr>\n",
       "      <th>...</th>\n",
       "      <td>...</td>\n",
       "      <td>...</td>\n",
       "      <td>...</td>\n",
       "      <td>...</td>\n",
       "      <td>...</td>\n",
       "      <td>...</td>\n",
       "    </tr>\n",
       "    <tr>\n",
       "      <th>140</th>\n",
       "      <td>K1395</td>\n",
       "      <td>Pre-Health Sciences Pathway to Advanced Diplom...</td>\n",
       "      <td>S1</td>\n",
       "      <td>51</td>\n",
       "      <td>HS</td>\n",
       "      <td>500.0</td>\n",
       "    </tr>\n",
       "    <tr>\n",
       "      <th>141</th>\n",
       "      <td>F1202</td>\n",
       "      <td>Masters in Data Science</td>\n",
       "      <td>S1</td>\n",
       "      <td>97</td>\n",
       "      <td>STT</td>\n",
       "      <td>500.0</td>\n",
       "    </tr>\n",
       "    <tr>\n",
       "      <th>142</th>\n",
       "      <td>F1202</td>\n",
       "      <td>Masters in Data Science</td>\n",
       "      <td>S2</td>\n",
       "      <td>102</td>\n",
       "      <td>STT</td>\n",
       "      <td>500.0</td>\n",
       "    </tr>\n",
       "    <tr>\n",
       "      <th>143</th>\n",
       "      <td>F1202</td>\n",
       "      <td>Masters in Data Science</td>\n",
       "      <td>S3</td>\n",
       "      <td>45</td>\n",
       "      <td>STT</td>\n",
       "      <td>500.0</td>\n",
       "    </tr>\n",
       "    <tr>\n",
       "      <th>144</th>\n",
       "      <td>F1202</td>\n",
       "      <td>Masters in Data Science</td>\n",
       "      <td>S4</td>\n",
       "      <td>33</td>\n",
       "      <td>STT</td>\n",
       "      <td>500.0</td>\n",
       "    </tr>\n",
       "  </tbody>\n",
       "</table>\n",
       "<p>145 rows × 6 columns</p>\n",
       "</div>"
      ],
      "text/plain": [
       "     Program Code                                         Program Name    \\\n",
       "0               K3135                         Medical Laboratory Science   \n",
       "1               K3135                         Medical Laboratory Science   \n",
       "2               K3135                         Medical Laboratory Science   \n",
       "3               K3135                         Medical Laboratory Science   \n",
       "4               K3263           Advertising and Marketing Communications   \n",
       "..                ...                                                ...   \n",
       "140             K1395  Pre-Health Sciences Pathway to Advanced Diplom...   \n",
       "141             F1202                            Masters in Data Science   \n",
       "142             F1202                            Masters in Data Science   \n",
       "143             F1202                            Masters in Data Science   \n",
       "144             F1202                            Masters in Data Science   \n",
       "\n",
       "    Level  Number of Students   School     Deposit Amount   \n",
       "0      S1                    53     HS               500.0  \n",
       "1      S3                    38     HS               500.0  \n",
       "2      S5                    13     HS               500.0  \n",
       "3      S6                     9     HS               500.0  \n",
       "4      S1                    88    BUS               500.0  \n",
       "..    ...                   ...    ...                 ...  \n",
       "140    S1                    51     HS               500.0  \n",
       "141    S1                    97    STT               500.0  \n",
       "142    S2                   102    STT               500.0  \n",
       "143    S3                    45    STT               500.0  \n",
       "144    S4                    33    STT               500.0  \n",
       "\n",
       "[145 rows x 6 columns]"
      ]
     },
     "execution_count": 1,
     "metadata": {},
     "output_type": "execute_result"
    }
   ],
   "source": [
    "import os\n",
    "cwd = os.getcwd()\n",
    "print(cwd)\n",
    "import pandas as pd\n",
    "clean =pd.read_excel(\"C:/Users/samjo/Downloads/rawdata.xlsx\")\n",
    "clean\n",
    "\n",
    "# i had clean some of stuff using excel and using countblank function and fill the na usinf forward fill  python\n",
    "wat=clean.fillna(method='ffill')\n",
    "wat.to_csv('output1.csv', index=False) \n",
    "data =pd.read_csv(\"C:/Users/samjo/Downloads/output1.csv\")\n",
    "data\n",
    "\n",
    "\n",
    "# Assuming df is your DataFrame containing the data\n",
    "df = pd.DataFrame(data)\n",
    "\n",
    "# Rename the column \"Number of Students\" to \"Total Students\"\n",
    "df = df.rename(columns={\"Number of Students\": \"Total Students\"})\n",
    "\n",
    "# Now the column name has been changed\n",
    "print(df.head())\n",
    "data"
   ]
  },
  {
   "cell_type": "code",
   "execution_count": 19,
   "metadata": {},
   "outputs": [
    {
     "name": "stdout",
     "output_type": "stream",
     "text": [
      "Index([' Program Code    ', '  Program Name  ', 'Level',\n",
      "       'Number of Students  ', 'School', '   Deposit Amount '],\n",
      "      dtype='object')\n"
     ]
    }
   ],
   "source": [
    "print(df.columns)\n",
    "\n"
   ]
  },
  {
   "cell_type": "markdown",
   "metadata": {},
   "source": [
    "\n",
    "#### Write the full code that lead to the answer of each of the following questions in the single cell below each question."
   ]
  },
  {
   "cell_type": "markdown",
   "metadata": {},
   "source": [
    "## Q2) What is the grand total number of students in this college? \n",
    "**10 marks**"
   ]
  },
  {
   "cell_type": "code",
   "execution_count": 20,
   "metadata": {},
   "outputs": [
    {
     "data": {
      "text/plain": [
       "5966"
      ]
     },
     "execution_count": 20,
     "metadata": {},
     "output_type": "execute_result"
    }
   ],
   "source": [
    "collegestudents = df[\"Number of Students  \"].sum()\n",
    "collegestudents"
   ]
  },
  {
   "cell_type": "markdown",
   "metadata": {},
   "source": [
    "## Q3) What is the total number of students in each semester? \n",
    "**10 marks**"
   ]
  },
  {
   "cell_type": "code",
   "execution_count": 21,
   "metadata": {},
   "outputs": [
    {
     "name": "stdout",
     "output_type": "stream",
     "text": [
      "Level\n",
      "S1    2854\n",
      "S2     159\n",
      "S3    1858\n",
      "S4      33\n",
      "S5     944\n",
      "S6      10\n",
      "S7      55\n",
      "S8      53\n",
      "Name: Number of Students  , dtype: int64\n"
     ]
    }
   ],
   "source": [
    "\n",
    "semester_students = df.groupby('Level')['Number of Students  '].sum()\n",
    "\n",
    "# Display the total number of students in each semester\n",
    "print(semester_students)\n"
   ]
  },
  {
   "cell_type": "markdown",
   "metadata": {},
   "source": [
    "## Q4) Show the average number of students in each School using a bar graph. \n",
    "**10 marks**"
   ]
  },
  {
   "cell_type": "code",
   "execution_count": 33,
   "metadata": {},
   "outputs": [
    {
     "data": {
      "image/png": "[encoded data removed]",
      "text/plain": [
       "<Figure size 640x480 with 1 Axes>"
      ]
     },
     "metadata": {},
     "output_type": "display_data"
    }
   ],
   "source": [
    "\n",
    "import matplotlib.pyplot as plt\n",
    "\n",
    "average_students_per_school = df.groupby('School')['Number of Students  '].mean()\n",
    "\n",
    "average_students_per_school.plot(kind='bar', color='blue')\n",
    "\n",
    "# Set the title and labels\n",
    "plt.title('avg no student in each school')\n",
    "plt.xlabel('School')\n",
    "plt.ylabel('Average Number of Students')\n",
    "plt.show()\n"
   ]
  },
  {
   "cell_type": "markdown",
   "metadata": {},
   "source": [
    "## Q5) Import the tips dataset and complete the parts below , \n",
    "5a) Find out the correlation between total bill, tip and size column using appropriate data frame method. \n",
    "\n",
    "5b) Show the result of question 4 in a form of a seaborn package heatmap. \n",
    "\n",
    "**20 marks**"
   ]
  },
  {
   "cell_type": "code",
   "execution_count": 31,
   "metadata": {},
   "outputs": [
    {
     "name": "stdout",
     "output_type": "stream",
     "text": [
      "            total_bill       tip      size\n",
      "total_bill    1.000000  0.675734  0.598315\n",
      "tip           0.675734  1.000000  0.489299\n",
      "size          0.598315  0.489299  1.000000\n"
     ]
    }
   ],
   "source": [
    "tips =pd.read_csv(\"C:/Users/samjo/Downloads/tips.csv\")\n",
    "tips\n",
    "\n",
    "correlation= tips[['total_bill', 'tip', 'size']].corr()\n",
    "\n",
    "print(correlation)\n",
    "\n"
   ]
  },
  {
   "cell_type": "code",
   "execution_count": 41,
   "metadata": {},
   "outputs": [
    {
     "data": {
      "image/png": "[encoded data removed]",
      "text/plain": [
       "<Figure size 1200x800 with 2 Axes>"
      ]
     },
     "metadata": {},
     "output_type": "display_data"
    }
   ],
   "source": [
    "import seaborn as sns\n",
    "import matplotlib.pyplot as plt\n",
    "\n",
    "# Pivot the DataFrame to reshape it for the heatmap\n",
    "heatmap_data = df.pivot_table(index='School', columns='Level', values='Number of Students  ', aggfunc='mean')\n",
    "\n",
    "# Create the heatmap using Seaborn\n",
    "plt.figure(figsize=(12, 8))\n",
    "sns.heatmap(heatmap_data, annot=True, fmt=\".1f\", linewidths=.5)\n",
    "\n",
    "# Set the title and labels\n",
    "plt.title('Average ')\n",
    "plt.xlabel('Semester')\n",
    "plt.ylabel('School')\n",
    "\n",
    "\n",
    "plt.show()\n"
   ]
  },
  {
   "cell_type": "code",
   "execution_count": null,
   "metadata": {},
   "outputs": [],
   "source": []
  }
 ],
 "metadata": {
  "kernelspec": {
   "display_name": "Python 3 (ipykernel)",
   "language": "python",
   "name": "python3"
  },
  "language_info": {
   "codemirror_mode": {
    "name": "ipython",
    "version": 3
   },
   "file_extension": ".py",
   "mimetype": "text/x-python",
   "name": "python",
   "nbconvert_exporter": "python",
   "pygments_lexer": "ipython3",
   "version": "3.11.5"
  }
 },
 "nbformat": 4,
 "nbformat_minor": 4
}
